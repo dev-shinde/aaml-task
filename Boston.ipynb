{
 "cells": [
  {
   "cell_type": "code",
   "execution_count": 1,
   "id": "8933a588",
   "metadata": {},
   "outputs": [],
   "source": [
    "import pandas as pd\n",
    "import numpy as np\n",
    "from matplotlib import pyplot as plt"
   ]
  },
  {
   "cell_type": "code",
   "execution_count": 2,
   "id": "5c4ce617",
   "metadata": {},
   "outputs": [],
   "source": [
    "df=pd.read_excel(\"boston.xls\")"
   ]
  },
  {
   "cell_type": "code",
   "execution_count": 3,
   "id": "349bfbd1",
   "metadata": {},
   "outputs": [],
   "source": [
    "df=df.drop(columns=([\"NOX\",'INDUS']))"
   ]
  },
  {
   "cell_type": "code",
   "execution_count": 4,
   "id": "b203f755",
   "metadata": {},
   "outputs": [
    {
     "data": {
      "text/plain": [
       "CRIM     0\n",
       "ZN       0\n",
       "CHAS     0\n",
       "RM       0\n",
       "AGE      0\n",
       "DIS      0\n",
       "RAD      0\n",
       "TAX      0\n",
       "PT       0\n",
       "B        0\n",
       "LSTAT    0\n",
       "MV       0\n",
       "dtype: int64"
      ]
     },
     "execution_count": 4,
     "metadata": {},
     "output_type": "execute_result"
    }
   ],
   "source": [
    "#Check to see if any null values\n",
    "df.isna().sum()\n"
   ]
  },
  {
   "cell_type": "code",
   "execution_count": 5,
   "id": "c8a2acfe",
   "metadata": {},
   "outputs": [
    {
     "name": "stdout",
     "output_type": "stream",
     "text": [
      "<class 'pandas.core.frame.DataFrame'>\n",
      "RangeIndex: 506 entries, 0 to 505\n",
      "Data columns (total 12 columns):\n",
      " #   Column  Non-Null Count  Dtype  \n",
      "---  ------  --------------  -----  \n",
      " 0   CRIM    506 non-null    float64\n",
      " 1   ZN      506 non-null    float64\n",
      " 2   CHAS    506 non-null    int64  \n",
      " 3   RM      506 non-null    float64\n",
      " 4   AGE     506 non-null    float64\n",
      " 5   DIS     506 non-null    float64\n",
      " 6   RAD     506 non-null    int64  \n",
      " 7   TAX     506 non-null    int64  \n",
      " 8   PT      506 non-null    float64\n",
      " 9   B       506 non-null    float64\n",
      " 10  LSTAT   506 non-null    float64\n",
      " 11  MV      506 non-null    float64\n",
      "dtypes: float64(9), int64(3)\n",
      "memory usage: 47.6 KB\n"
     ]
    }
   ],
   "source": [
    "#features=df.iloc[0:,0:11].values\n",
    "#label=df.iloc[0:,11:].values\n",
    "df.info()"
   ]
  },
  {
   "cell_type": "code",
   "execution_count": 6,
   "id": "a50c9177",
   "metadata": {},
   "outputs": [],
   "source": [
    "features=df.drop('MV',axis=1)\n",
    "label=df['MV']"
   ]
  },
  {
   "cell_type": "code",
   "execution_count": 7,
   "id": "0c93bf90",
   "metadata": {},
   "outputs": [
    {
     "data": {
      "text/plain": [
       "0      24.000000\n",
       "1      21.600000\n",
       "2      34.700001\n",
       "3      33.400002\n",
       "4      36.200001\n",
       "         ...    \n",
       "501    22.400000\n",
       "502    20.600000\n",
       "503    23.900000\n",
       "504    22.000000\n",
       "505    11.900000\n",
       "Name: MV, Length: 506, dtype: float64"
      ]
     },
     "execution_count": 7,
     "metadata": {},
     "output_type": "execute_result"
    }
   ],
   "source": [
    "label"
   ]
  },
  {
   "cell_type": "code",
   "execution_count": 7,
   "id": "4af62fa8",
   "metadata": {},
   "outputs": [],
   "source": [
    "from sklearn.linear_model import LinearRegression\n",
    "reg=LinearRegression()"
   ]
  },
  {
   "cell_type": "code",
   "execution_count": 8,
   "id": "a5bd768f",
   "metadata": {},
   "outputs": [],
   "source": [
    "from sklearn.model_selection import train_test_split\n",
    "x_train, x_test, y_train, y_test = train_test_split(features, label, test_size=0.3)"
   ]
  },
  {
   "cell_type": "code",
   "execution_count": 9,
   "id": "f21ed733",
   "metadata": {},
   "outputs": [
    {
     "data": {
      "text/plain": [
       "LinearRegression()"
      ]
     },
     "execution_count": 9,
     "metadata": {},
     "output_type": "execute_result"
    }
   ],
   "source": [
    "reg.fit(x_train, y_train)"
   ]
  },
  {
   "cell_type": "code",
   "execution_count": 10,
   "id": "bb3ed44a",
   "metadata": {},
   "outputs": [
    {
     "data": {
      "text/plain": [
       "0.6860775003430735"
      ]
     },
     "execution_count": 10,
     "metadata": {},
     "output_type": "execute_result"
    }
   ],
   "source": [
    "#Score on test data , in this dataset the score is already pretty high.\n",
    "reg.score(x_test,y_test)"
   ]
  },
  {
   "cell_type": "code",
   "execution_count": 11,
   "id": "31723125",
   "metadata": {},
   "outputs": [
    {
     "data": {
      "text/plain": [
       "0.7341960637542493"
      ]
     },
     "execution_count": 11,
     "metadata": {},
     "output_type": "execute_result"
    }
   ],
   "source": [
    "#Score on training data, as you it performs better in training data then in test data(Overfitting).\n",
    "reg.score(x_train,y_train)"
   ]
  },
  {
   "cell_type": "code",
   "execution_count": 12,
   "id": "5b334e02",
   "metadata": {},
   "outputs": [],
   "source": [
    "y_pred=reg.predict(x_test)"
   ]
  },
  {
   "cell_type": "code",
   "execution_count": 13,
   "id": "23516945",
   "metadata": {},
   "outputs": [
    {
     "name": "stdout",
     "output_type": "stream",
     "text": [
      "r2 socre is  0.6860775003430735\n",
      "mean_sqrd_error is== 20.887654951640428\n",
      "root_mean_squared error of is== 4.57030140708908\n"
     ]
    }
   ],
   "source": [
    "# importing r2_score module\n",
    "from sklearn.metrics import r2_score\n",
    "from sklearn.metrics import mean_squared_error\n",
    "# predicting the accuracy score\n",
    "score=r2_score(y_test,y_pred)\n",
    "print('r2 socre is ',score)\n",
    "print(\"mean_sqrd_error is==\",mean_squared_error(y_test,y_pred))\n",
    "print(\"root_mean_squared error of is==\",np.sqrt(mean_squared_error(y_test,y_pred)))"
   ]
  },
  {
   "cell_type": "code",
   "execution_count": 14,
   "id": "d8f51c46",
   "metadata": {},
   "outputs": [],
   "source": [
    "from sklearn.preprocessing import StandardScaler\n",
    "sc_X=StandardScaler()"
   ]
  },
  {
   "cell_type": "code",
   "execution_count": 15,
   "id": "1871b549",
   "metadata": {},
   "outputs": [],
   "source": [
    "x_train=sc_X.fit_transform(x_train)\n",
    "x_test=sc_X.fit_transform(x_test)"
   ]
  },
  {
   "cell_type": "code",
   "execution_count": 16,
   "id": "d3fe6681",
   "metadata": {},
   "outputs": [
    {
     "data": {
      "text/plain": [
       "LinearRegression()"
      ]
     },
     "execution_count": 16,
     "metadata": {},
     "output_type": "execute_result"
    }
   ],
   "source": [
    "reg.fit(x_train, y_train)"
   ]
  },
  {
   "cell_type": "code",
   "execution_count": 17,
   "id": "197ad5d4",
   "metadata": {},
   "outputs": [],
   "source": [
    "y_pred=reg.predict(x_test)"
   ]
  },
  {
   "cell_type": "code",
   "execution_count": 18,
   "id": "19300eba",
   "metadata": {},
   "outputs": [
    {
     "name": "stdout",
     "output_type": "stream",
     "text": [
      "r2 socre is  0.669241219368813\n",
      "mean_sqrd_error is== 22.007900961542703\n",
      "root_mean_squared error of is== 4.691257929547543\n"
     ]
    }
   ],
   "source": [
    "from sklearn.metrics import r2_score, mean_squared_error\n",
    "print('r2 socre is ',r2_score(y_test,y_pred))\n",
    "print(\"mean_sqrd_error is==\",mean_squared_error(y_test,y_pred))\n",
    "print(\"root_mean_squared error of is==\",np.sqrt(mean_squared_error(y_test,y_pred)))"
   ]
  },
  {
   "cell_type": "code",
   "execution_count": 19,
   "id": "02991338",
   "metadata": {},
   "outputs": [],
   "source": [
    "from sklearn.linear_model import Ridge,RidgeCV,Lasso"
   ]
  },
  {
   "cell_type": "code",
   "execution_count": 20,
   "id": "378f0fda",
   "metadata": {},
   "outputs": [
    {
     "data": {
      "text/plain": [
       "Ridge(alpha=0.1, max_iter=100)"
      ]
     },
     "execution_count": 20,
     "metadata": {},
     "output_type": "execute_result"
    }
   ],
   "source": [
    "ridge = Ridge(alpha=0.1,max_iter=100)\n",
    "ridge.fit(x_train,y_train)"
   ]
  },
  {
   "cell_type": "code",
   "execution_count": 21,
   "id": "b6fcbe76",
   "metadata": {},
   "outputs": [
    {
     "name": "stdout",
     "output_type": "stream",
     "text": [
      "0.7341958426680664\n"
     ]
    }
   ],
   "source": [
    "#ridge on train data\n",
    "print(ridge.score(x_train, y_train))"
   ]
  },
  {
   "cell_type": "code",
   "execution_count": 22,
   "id": "3868baa2",
   "metadata": {},
   "outputs": [
    {
     "name": "stdout",
     "output_type": "stream",
     "text": [
      "0.6693182276013403\n"
     ]
    }
   ],
   "source": [
    "#ridge on test data\n",
    "print(ridge.score(x_test, y_test))"
   ]
  },
  {
   "cell_type": "code",
   "execution_count": 23,
   "id": "85d11ae2",
   "metadata": {},
   "outputs": [
    {
     "name": "stdout",
     "output_type": "stream",
     "text": [
      "Lasso model: [-0.61045573  1.01227159  0.35634161  3.59695066 -0.66086855 -2.5194836\n",
      "  2.56513923 -3.0228416  -1.63351813  1.2745238  -3.24308828]\n",
      "intercept: 22.720339003225995\n"
     ]
    }
   ],
   "source": [
    "#IF Alpha = 11 the score comes  in -ve\n",
    "lasso = Lasso(alpha=0.001)\n",
    "lasso.fit(x_train,y_train)\n",
    "print (\"Lasso model:\", (lasso.coef_))\n",
    "print(\"intercept:\",lasso.intercept_)"
   ]
  },
  {
   "cell_type": "code",
   "execution_count": 24,
   "id": "18e0890f",
   "metadata": {},
   "outputs": [
    {
     "name": "stdout",
     "output_type": "stream",
     "text": [
      "0.7341955704921856\n"
     ]
    }
   ],
   "source": [
    "#lasso on train data\n",
    "print(lasso.score(x_train, y_train))"
   ]
  },
  {
   "cell_type": "code",
   "execution_count": 25,
   "id": "2a12d886",
   "metadata": {},
   "outputs": [
    {
     "name": "stdout",
     "output_type": "stream",
     "text": [
      "0.6693067138298182\n"
     ]
    }
   ],
   "source": [
    "#lasso on test data\n",
    "print(lasso.score(x_test, y_test))"
   ]
  },
  {
   "cell_type": "code",
   "execution_count": 26,
   "id": "66659ca3",
   "metadata": {},
   "outputs": [],
   "source": [
    "import pickle"
   ]
  },
  {
   "cell_type": "code",
   "execution_count": 27,
   "id": "b4abc698",
   "metadata": {},
   "outputs": [],
   "source": [
    "filename = 'linear_model.sav'\n",
    "pickle.dump(reg, open(filename, 'wb'))"
   ]
  },
  {
   "cell_type": "code",
   "execution_count": 31,
   "id": "04ab007b",
   "metadata": {},
   "outputs": [
    {
     "name": "stdout",
     "output_type": "stream",
     "text": [
      "0.669241219368813\n"
     ]
    }
   ],
   "source": [
    "loaded_model = pickle.load(open(filename, 'rb'))\n",
    "result = loaded_model.score(x_test, y_test)\n",
    "print(result)"
   ]
  },
  {
   "cell_type": "code",
   "execution_count": 32,
   "id": "f4dca615",
   "metadata": {},
   "outputs": [],
   "source": [
    "filename = 'lasso_model.sav'\n",
    "pickle.dump(lasso, open(filename, 'wb'))"
   ]
  },
  {
   "cell_type": "code",
   "execution_count": 33,
   "id": "11e8ba61",
   "metadata": {},
   "outputs": [
    {
     "name": "stdout",
     "output_type": "stream",
     "text": [
      "0.6693067138298182\n"
     ]
    }
   ],
   "source": [
    "loaded_model = pickle.load(open(filename, 'rb'))\n",
    "result = loaded_model.score(x_test, y_test)\n",
    "print(result)"
   ]
  },
  {
   "cell_type": "code",
   "execution_count": 34,
   "id": "b30ae187",
   "metadata": {},
   "outputs": [],
   "source": [
    "filename = 'ridge_model.sav'\n",
    "pickle.dump(ridge, open(filename, 'wb'))"
   ]
  },
  {
   "cell_type": "code",
   "execution_count": 35,
   "id": "bd4bbdb5",
   "metadata": {},
   "outputs": [
    {
     "name": "stdout",
     "output_type": "stream",
     "text": [
      "0.6693182276013403\n"
     ]
    }
   ],
   "source": [
    "loaded_model = pickle.load(open(filename, 'rb'))\n",
    "result = loaded_model.score(x_test, y_test)\n",
    "print(result)"
   ]
  },
  {
   "cell_type": "code",
   "execution_count": 29,
   "id": "b490c479",
   "metadata": {},
   "outputs": [],
   "source": [
    "#red wine , who ,car dekho datset for linear ragression"
   ]
  }
 ],
 "metadata": {
  "kernelspec": {
   "display_name": "Python 3 (ipykernel)",
   "language": "python",
   "name": "python3"
  },
  "language_info": {
   "codemirror_mode": {
    "name": "ipython",
    "version": 3
   },
   "file_extension": ".py",
   "mimetype": "text/x-python",
   "name": "python",
   "nbconvert_exporter": "python",
   "pygments_lexer": "ipython3",
   "version": "3.9.12"
  }
 },
 "nbformat": 4,
 "nbformat_minor": 5
}
